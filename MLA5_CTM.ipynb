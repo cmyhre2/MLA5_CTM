{
  "nbformat": 4,
  "nbformat_minor": 0,
  "metadata": {
    "colab": {
      "provenance": [],
      "gpuType": "T4",
      "include_colab_link": true
    },
    "kernelspec": {
      "name": "python3",
      "display_name": "Python 3"
    },
    "language_info": {
      "name": "python"
    },
    "accelerator": "GPU"
  },
  "cells": [
    {
      "cell_type": "markdown",
      "metadata": {
        "id": "view-in-github",
        "colab_type": "text"
      },
      "source": [
        "<a href=\"https://colab.research.google.com/github/cmyhre2/MLA5_CTM/blob/main/MLA5_CTM.ipynb\" target=\"_parent\"><img src=\"https://colab.research.google.com/assets/colab-badge.svg\" alt=\"Open In Colab\"/></a>"
      ]
    },
    {
      "cell_type": "markdown",
      "source": [
        "\n",
        "# Machine Learning Assignment #5  \n",
        "**Chris Myhre**  "
      ],
      "metadata": {
        "id": "QRwWxyo15l1_"
      }
    },
    {
      "cell_type": "markdown",
      "source": [
        "## Standard Imports"
      ],
      "metadata": {
        "id": "Dm3plw0g3ZvL"
      }
    },
    {
      "cell_type": "code",
      "execution_count": 1,
      "metadata": {
        "id": "hZQOlQVuibFq"
      },
      "outputs": [],
      "source": [
        "import pandas as pd\n",
        "import numpy as np\n",
        "import matplotlib.pyplot as plt\n",
        "import seaborn as sns\n",
        "%matplotlib inline"
      ]
    },
    {
      "cell_type": "code",
      "source": [
        "from google.colab import drive\n",
        "drive.mount('/content/drive')"
      ],
      "metadata": {
        "colab": {
          "base_uri": "https://localhost:8080/"
        },
        "id": "f6C2m_xqin0Y",
        "outputId": "7df6bb6c-dee2-4390-feb0-6291d1310c29"
      },
      "execution_count": 2,
      "outputs": [
        {
          "output_type": "stream",
          "name": "stdout",
          "text": [
            "Mounted at /content/drive\n"
          ]
        }
      ]
    },
    {
      "cell_type": "markdown",
      "source": [
        "## Imports for specific models\n",
        "In this section, you will import the models from SKLearn that you will use this in this notebook."
      ],
      "metadata": {
        "id": "UM7SiWOlBzPg"
      }
    },
    {
      "cell_type": "code",
      "source": [
        "#example - you will replace this with the models you are actually using.\n",
        "from sklearn.ensemble import VotingClassifier\n",
        "from sklearn.ensemble import RandomForestClassifier\n",
        "from sklearn.ensemble import BaggingClassifier\n",
        "from sklearn.ensemble import AdaBoostClassifier"
      ],
      "metadata": {
        "id": "jL7htbaoB6Ek"
      },
      "execution_count": 3,
      "outputs": []
    },
    {
      "cell_type": "markdown",
      "source": [
        "## Imports for Splitting Data and Building Pipeline\n"
      ],
      "metadata": {
        "id": "-5Akp3i4CPFj"
      }
    },
    {
      "cell_type": "code",
      "source": [
        "from sklearn.model_selection import train_test_split\n",
        "\n",
        "from sklearn.pipeline import Pipeline\n",
        "from sklearn import set_config\n",
        "set_config(display='diagram')\n",
        "\n",
        "from sklearn.compose import ColumnTransformer\n",
        "from sklearn.preprocessing import MinMaxScaler\n",
        "from sklearn.preprocessing import OneHotEncoder"
      ],
      "metadata": {
        "id": "RPkp1dlKqLOT"
      },
      "execution_count": 4,
      "outputs": []
    },
    {
      "cell_type": "markdown",
      "source": [
        "# Imports for Performance Measures"
      ],
      "metadata": {
        "id": "JW9kgAGwpww3"
      }
    },
    {
      "cell_type": "code",
      "source": [
        "from sklearn.metrics import confusion_matrix\n",
        "from sklearn.metrics import precision_score, recall_score, f1_score\n",
        "from sklearn.metrics import roc_curve\n",
        "from sklearn.metrics import roc_auc_score\n",
        "from sklearn.metrics import r2_score\n",
        "from sklearn.metrics import mean_squared_error\n",
        "from sklearn.metrics import precision_recall_curve\n",
        "from sklearn.metrics import auc\n",
        "from sklearn.metrics import classification_report"
      ],
      "metadata": {
        "id": "N4WwSQlNpw7c"
      },
      "execution_count": 14,
      "outputs": []
    },
    {
      "cell_type": "markdown",
      "source": [
        "## Confusion Matrix Function\n",
        "This function is for creating a graphical version of the confusion matrix.\n",
        "\n"
      ],
      "metadata": {
        "id": "pWcDpHz0qF_J"
      }
    },
    {
      "cell_type": "code",
      "source": [
        "def plot_cm(y_test, y_pred):\n",
        "    cm = confusion_matrix(y_test,y_pred)\n",
        "    fig = plt.figure(figsize=(10,10))\n",
        "    heatmap = sns.heatmap(cm, annot=True, fmt='.2f', cmap='RdYlGn')\n",
        "    plt.ylabel('True label')\n",
        "    plt.xlabel('Predicted Label')"
      ],
      "metadata": {
        "id": "UyWroVXvp2ZD"
      },
      "execution_count": 6,
      "outputs": []
    },
    {
      "cell_type": "markdown",
      "source": [
        "# ROC_Curve Function\n",
        "This function is for plotting the roc_curve"
      ],
      "metadata": {
        "id": "fYHTxcJYqGcP"
      }
    },
    {
      "cell_type": "code",
      "source": [
        "def plot_roc_curve(fpr,tpr):\n",
        "  plt.plot(fpr, tpr, linewidth=2)\n",
        "  plt.plot([0,1],[0,1], 'k--')\n",
        "  plt.xlim([0.0, 1.0])\n",
        "  plt.ylim([0.0, 1.0])"
      ],
      "metadata": {
        "id": "DSTtrdx0qFAU"
      },
      "execution_count": 7,
      "outputs": []
    },
    {
      "cell_type": "markdown",
      "source": [
        "## Problem 1"
      ],
      "metadata": {
        "id": "9zzzkwxa3ncK"
      }
    },
    {
      "cell_type": "markdown",
      "source": [
        "\n",
        "### Acquire Data"
      ],
      "metadata": {
        "id": "PbtwGYpbDQyy"
      }
    },
    {
      "cell_type": "code",
      "source": [
        "landsat_train=pd.read_csv('/content/drive/MyDrive/CS430/Assignment_5/landsat_train.csv')\n",
        "landsat_test=pd.read_csv('/content/drive/MyDrive/CS430/Assignment_5/landsat_test.csv')"
      ],
      "metadata": {
        "id": "G8Mtm9Eq0fxS"
      },
      "execution_count": 8,
      "outputs": []
    },
    {
      "cell_type": "markdown",
      "source": [
        "### Statistical and Visual Exploration"
      ],
      "metadata": {
        "id": "HYTANYVkDbyh"
      }
    },
    {
      "cell_type": "code",
      "source": [
        "# Assuming 'land_type' column exists in both dataframes\n",
        "plt.figure(figsize=(10, 5))\n",
        "sns.countplot(x='land_type', data=landsat_train)\n",
        "plt.title('Landsat Train - Number of Land Types')\n",
        "plt.xlabel('Land Type')\n",
        "plt.ylabel('Count')\n",
        "plt.show()\n",
        "\n",
        "plt.figure(figsize=(10, 5))\n",
        "sns.countplot(x='land_type', data=landsat_test)\n",
        "plt.title('Landsat Test - Number of Land Types')\n",
        "plt.xlabel('Land Type')\n",
        "plt.ylabel('Count')\n",
        "plt.show()"
      ],
      "metadata": {
        "colab": {
          "base_uri": "https://localhost:8080/",
          "height": 957
        },
        "id": "ccl93RIg1aZ7",
        "outputId": "900c354a-1ade-4455-ad39-e5d326b039aa"
      },
      "execution_count": 19,
      "outputs": [
        {
          "output_type": "display_data",
          "data": {
            "text/plain": [
              "<Figure size 1000x500 with 1 Axes>"
            ],
            "image/png": "[encoded data removed]"
          },
          "metadata": {}
        },
        {
          "output_type": "display_data",
          "data": {
            "text/plain": [
              "<Figure size 1000x500 with 1 Axes>"
            ],
            "image/png": "[encoded data removed]"
          },
          "metadata": {}
        }
      ]
    },
    {
      "cell_type": "markdown",
      "source": [
        "### Splitting Data into Train/Test"
      ],
      "metadata": {
        "id": "FhtpEB4SEzSx"
      }
    },
    {
      "cell_type": "code",
      "source": [
        "X_train = landsat_train.drop('land_type', axis=1)\n",
        "X_test = landsat_test.drop('land_type', axis=1)\n",
        "y_train = landsat_train['land_type']\n",
        "y_test = landsat_test['land_type']\n"
      ],
      "metadata": {
        "id": "pKe6APQt1ysw"
      },
      "execution_count": 10,
      "outputs": []
    },
    {
      "cell_type": "markdown",
      "source": [
        "### Building the Pipeline"
      ],
      "metadata": {
        "id": "jPvXk_mdEJdg"
      }
    },
    {
      "cell_type": "code",
      "source": [
        "# Create a column transformer for numerical features\n",
        "numerical_transformer = Pipeline(steps=[\n",
        "    ('scaler', MinMaxScaler())\n",
        "])\n",
        "\n",
        "# Assuming all features except 'land_type' are numerical\n",
        "# You might need to adjust the 'numerical_cols' list if you have categorical features\n",
        "numerical_cols = X_train.columns.tolist()\n",
        "\n",
        "preprocessor = ColumnTransformer(\n",
        "    transformers=[\n",
        "        ('num', numerical_transformer, numerical_cols)\n",
        "    ])\n",
        "\n",
        "# Create the pipeline with the preprocessor and RandomForestClassifier\n",
        "rfc_pipeline = Pipeline(steps=[\n",
        "    ('preprocessor', preprocessor),\n",
        "    ('classifier', RandomForestClassifier())\n",
        "])"
      ],
      "metadata": {
        "id": "5GDJAsYt129g"
      },
      "execution_count": 31,
      "outputs": []
    },
    {
      "cell_type": "markdown",
      "source": [
        "### Executing the Model"
      ],
      "metadata": {
        "id": "8vSidC97Jbx2"
      }
    },
    {
      "cell_type": "code",
      "source": [
        "# Fit the pipeline to the training data\n",
        "rfc_pipeline.fit(X_train, y_train)\n",
        "\n",
        "# Make predictions on the test data\n",
        "y_pred = rfc_pipeline.predict(X_test)\n",
        "\n",
        "# Evaluate the model (example: using accuracy)\n",
        "# You can replace this with other evaluation metrics\n",
        "from sklearn.metrics import accuracy_score\n",
        "accuracy = accuracy_score(y_test, y_pred)\n",
        "print(f\"Accuracy: {accuracy}\")"
      ],
      "metadata": {
        "colab": {
          "base_uri": "https://localhost:8080/"
        },
        "id": "muhHsgBY2AZi",
        "outputId": "0e1cdd15-adad-4811-9edb-374c133f1a8a"
      },
      "execution_count": 33,
      "outputs": [
        {
          "output_type": "stream",
          "name": "stdout",
          "text": [
            "Accuracy: 0.9927272727272727\n"
          ]
        }
      ]
    },
    {
      "cell_type": "markdown",
      "source": [
        "### Evaluating Model"
      ],
      "metadata": {
        "id": "iBFx9cbQJCKr"
      }
    },
    {
      "cell_type": "code",
      "source": [
        "from sklearn.metrics import ConfusionMatrixDisplay\n",
        "\n",
        "# Use the classification_report function to display precision, recall, and F1 score\n",
        "print(classification_report(y_test, y_pred))\n",
        "\n",
        "# Use the ConfusionMatrixDisplay function to display a heatmap of the confusion matrix\n",
        "ConfusionMatrixDisplay.from_estimator(rfc_pipeline, X_test, y_test)\n",
        "plt.show()"
      ],
      "metadata": {
        "colab": {
          "base_uri": "https://localhost:8080/",
          "height": 681
        },
        "id": "J-hX1PfQ2Nr8",
        "outputId": "8f3239e0-93ef-43fc-8f85-5fe8ddca9b58"
      },
      "execution_count": 15,
      "outputs": [
        {
          "output_type": "stream",
          "name": "stdout",
          "text": [
            "              precision    recall  f1-score   support\n",
            "\n",
            "           1       0.98      0.99      0.99       461\n",
            "           2       0.97      0.98      0.98       224\n",
            "           3       0.89      0.95      0.92       397\n",
            "           4       0.78      0.64      0.70       211\n",
            "           5       0.93      0.89      0.91       237\n",
            "           7       0.87      0.90      0.88       470\n",
            "\n",
            "    accuracy                           0.91      2000\n",
            "   macro avg       0.90      0.89      0.90      2000\n",
            "weighted avg       0.91      0.91      0.91      2000\n",
            "\n"
          ]
        },
        {
          "output_type": "display_data",
          "data": {
            "text/plain": [
              "<Figure size 640x480 with 2 Axes>"
            ],
            "image/png": "[encoded data removed]"
          },
          "metadata": {}
        }
      ]
    },
    {
      "cell_type": "markdown",
      "source": [
        "### Conclusion\n",
        "  The RandomForestClassifier model shows a decent level of accuracy in predicting land type based on the provided Landsat data. Additional analysis of the classification report, confusion matrix, and other relevant metrics (precision, recall, F1 score) would provide a more in-depth understanding of the model's performance for each tpe of land. Areas where the model struggles (Shown via lower precision scores or recall for certain land types in the confusion matrix) should be investigated to identify potential improvements. Additional exploration with alternative models or featuire engineering techniques to improve predictive accuracy, mainly for those lower-performing land types. More data and/or more diverse data may also improve performance."
      ],
      "metadata": {
        "id": "3lnXErgPJFde"
      }
    },
    {
      "cell_type": "markdown",
      "source": [
        "## Problem 2"
      ],
      "metadata": {
        "id": "cEwDPPtX-C9t"
      }
    },
    {
      "cell_type": "code",
      "source": [
        "# Create the pipeline with the preprocessor and VotingClassifier\n",
        "vc_pipeline = Pipeline(steps=[\n",
        "    ('preprocessor', preprocessor),\n",
        "    ('classifier', VotingClassifier(estimators=[\n",
        "        ('random_forest', RandomForestClassifier()),\n",
        "        ('bagging', BaggingClassifier()),\n",
        "        ('adaboost', AdaBoostClassifier())\n",
        "    ]))\n",
        "])"
      ],
      "metadata": {
        "id": "Vb3NBE2Z35f5"
      },
      "execution_count": 16,
      "outputs": []
    },
    {
      "cell_type": "code",
      "source": [
        "# Fit the pipeline to the training data\n",
        "vc_pipeline.fit(X_train, y_train)\n",
        "\n",
        "# Make predictions on the test data\n",
        "y_pred = vc_pipeline.predict(X_test)\n",
        "\n",
        "# Evaluate the model (example: using accuracy)\n",
        "accuracy = accuracy_score(y_test, y_pred)\n",
        "print(f\"Accuracy: {accuracy}\")"
      ],
      "metadata": {
        "colab": {
          "base_uri": "https://localhost:8080/"
        },
        "id": "ZoukJ6tl55-B",
        "outputId": "2438c690-f0c5-46f0-abed-e2aef9446487"
      },
      "execution_count": 17,
      "outputs": [
        {
          "output_type": "stream",
          "name": "stderr",
          "text": [
            "/usr/local/lib/python3.10/dist-packages/sklearn/ensemble/_weight_boosting.py:527: FutureWarning: The SAMME.R algorithm (the default) is deprecated and will be removed in 1.6. Use the SAMME algorithm to circumvent this warning.\n",
            "  warnings.warn(\n"
          ]
        },
        {
          "output_type": "stream",
          "name": "stdout",
          "text": [
            "Accuracy: 0.899\n"
          ]
        }
      ]
    },
    {
      "cell_type": "markdown",
      "source": [
        "### Conclusion\n",
        "  Putting the data through a Voting Classifier has a negative impact on the model's accuracy, decreasing it from 0.993 to 0.899. Still decent accuracy but 10% worse."
      ],
      "metadata": {
        "id": "nxIkD-bioXik"
      }
    },
    {
      "cell_type": "markdown",
      "source": [
        "## Problem 3\n"
      ],
      "metadata": {
        "id": "EX3V67uy3zE5"
      }
    },
    {
      "cell_type": "markdown",
      "source": [
        "### Acquire Data"
      ],
      "metadata": {
        "id": "iFllsBeo3Fym"
      }
    },
    {
      "cell_type": "code",
      "source": [
        "banknote_data = pd.read_csv('/content/drive/MyDrive/CS430/Assignment_5/banknote_authentication.csv')"
      ],
      "metadata": {
        "id": "wtRTHG8ulVGc"
      },
      "execution_count": 18,
      "outputs": []
    },
    {
      "cell_type": "markdown",
      "source": [
        "### Statistical and Visual Exploration"
      ],
      "metadata": {
        "id": "keMdAAJFlpdh"
      }
    },
    {
      "cell_type": "code",
      "source": [
        "# Assuming 'land_type' column exists in both dataframes\n",
        "plt.figure(figsize=(10, 5))\n",
        "sns.countplot(x='forgery', data=banknote_data)\n",
        "plt.title('Countplt of Real and Forged Banknotes')\n",
        "plt.xlabel('Banknote Type, 0 = Real, 1 = Forged')\n",
        "plt.ylabel('Count')\n",
        "plt.show()"
      ],
      "metadata": {
        "colab": {
          "base_uri": "https://localhost:8080/",
          "height": 487
        },
        "id": "dUsxrx3ilqo0",
        "outputId": "6f7c1747-e8d5-40e5-cca4-a0c83b34d56f"
      },
      "execution_count": 26,
      "outputs": [
        {
          "output_type": "display_data",
          "data": {
            "text/plain": [
              "<Figure size 1000x500 with 1 Axes>"
            ],
            "image/png": "[encoded data removed]"
          },
          "metadata": {}
        }
      ]
    },
    {
      "cell_type": "markdown",
      "source": [
        "### Splitting Data into Train/Test"
      ],
      "metadata": {
        "id": "loHENV0V-Okn"
      }
    },
    {
      "cell_type": "code",
      "source": [
        "# split the data into training and test sets\n",
        "X = banknote_data.drop('forgery', axis=1)\n",
        "y = banknote_data['forgery']\n",
        "X_train, X_test, y_train, y_test = train_test_split(X, y, test_size=0.2, random_state=42)"
      ],
      "metadata": {
        "id": "ZcCympJuljdg"
      },
      "execution_count": 27,
      "outputs": []
    },
    {
      "cell_type": "markdown",
      "source": [
        "### Building the Pipeline"
      ],
      "metadata": {
        "id": "fwGIAvl3-Ok-"
      }
    },
    {
      "cell_type": "code",
      "source": [
        "# Create a column transformer for numerical features\n",
        "numerical_transformer = Pipeline(steps=[\n",
        "    ('scaler', MinMaxScaler())\n",
        "])\n",
        "\n",
        "# Assuming all features except 'land_type' are numerical\n",
        "# You might need to adjust the 'numerical_cols' list if you have categorical features\n",
        "numerical_cols = X_train.columns.tolist()\n",
        "\n",
        "preprocessor = ColumnTransformer(\n",
        "    transformers=[\n",
        "        ('num', numerical_transformer, numerical_cols)\n",
        "    ])\n",
        "\n",
        "# Create the pipeline with the preprocessor and RandomForestClassifier\n",
        "rfc_pipeline = Pipeline(steps=[\n",
        "    ('preprocessor', preprocessor),\n",
        "    ('classifier', RandomForestClassifier())\n",
        "])"
      ],
      "metadata": {
        "id": "a1Rl9eIioruu"
      },
      "execution_count": 32,
      "outputs": []
    },
    {
      "cell_type": "markdown",
      "source": [
        "### Executing the Model"
      ],
      "metadata": {
        "id": "ivVjQ7Jm-Ok_"
      }
    },
    {
      "cell_type": "code",
      "source": [
        "# Create a column transformer for numerical features\n",
        "numerical_transformer = Pipeline(steps=[\n",
        "    ('scaler', MinMaxScaler())\n",
        "])\n",
        "\n",
        "# Assuming all features except 'land_type' are numerical\n",
        "# You might need to adjust the 'numerical_cols' list if you have categorical features\n",
        "numerical_cols = X_train.columns.tolist()\n",
        "\n",
        "preprocessor = ColumnTransformer(\n",
        "    transformers=[\n",
        "        ('num', numerical_transformer, numerical_cols)\n",
        "    ])\n",
        "\n",
        "# Create the pipeline with the preprocessor and RandomForestClassifier\n",
        "rfc_pipeline = Pipeline(steps=[\n",
        "    ('preprocessor', preprocessor),\n",
        "    ('classifier', RandomForestClassifier())\n",
        "])"
      ],
      "metadata": {
        "id": "srqCdbqUp7lK"
      },
      "execution_count": 34,
      "outputs": []
    },
    {
      "cell_type": "code",
      "source": [
        "# prompt: Run the pipeline to fit the RandomForestClassification model.\n",
        "\n",
        "# Assuming necessary libraries are already imported and data is loaded as in the provided code.\n",
        "from sklearn.metrics import accuracy_score\n",
        "from sklearn.metrics import ConfusionMatrixDisplay\n",
        "\n",
        "# ... (previous code) ...\n",
        "\n",
        "# ### Executing the Model\n",
        "# Fit the pipeline to the training data\n",
        "rfc_pipeline.fit(X_train, y_train)\n",
        "\n",
        "# Make predictions on the test data\n",
        "y_pred = rfc_pipeline.predict(X_test)\n",
        "\n",
        "# Evaluate the model (example: using accuracy)\n",
        "# You can replace this with other evaluation metrics\n",
        "accuracy = accuracy_score(y_test, y_pred)\n",
        "print(f\"Accuracy: {accuracy}\")\n",
        "\n",
        "# ... (rest of the code) ..."
      ],
      "metadata": {
        "colab": {
          "base_uri": "https://localhost:8080/"
        },
        "id": "dB5KfB_bqv2i",
        "outputId": "4f8aea32-3fba-4288-b60e-9cc42b352498"
      },
      "execution_count": 39,
      "outputs": [
        {
          "output_type": "stream",
          "name": "stdout",
          "text": [
            "Accuracy: 0.9927272727272727\n"
          ]
        }
      ]
    },
    {
      "cell_type": "markdown",
      "source": [
        "### Evaluating Model"
      ],
      "metadata": {
        "id": "SMLuruS6-OlA"
      }
    },
    {
      "cell_type": "code",
      "source": [
        "# Use the classification_report function to display precision, recall, and F1 score\n",
        "print(classification_report(y_test, y_pred))\n",
        "\n",
        "# Use the ConfusionMatrixDisplay function to display a heatmap of the confusion matrix\n",
        "ConfusionMatrixDisplay.from_estimator(rfc_pipeline, X_test, y_test)\n",
        "plt.title('Confusion Matrix of Banknotes')\n",
        "plt.xlabel('Predicted Forged')\n",
        "plt.ylabel('True Forged')\n",
        "plt.show()"
      ],
      "metadata": {
        "colab": {
          "base_uri": "https://localhost:8080/",
          "height": 633
        },
        "id": "-LBiExMCqC7q",
        "outputId": "da0233d6-1b2c-4bfe-b5f4-581cd7538126"
      },
      "execution_count": 49,
      "outputs": [
        {
          "output_type": "stream",
          "name": "stdout",
          "text": [
            "              precision    recall  f1-score   support\n",
            "\n",
            "           0       0.99      1.00      0.99       148\n",
            "           1       1.00      0.98      0.99       127\n",
            "\n",
            "    accuracy                           0.99       275\n",
            "   macro avg       0.99      0.99      0.99       275\n",
            "weighted avg       0.99      0.99      0.99       275\n",
            "\n"
          ]
        },
        {
          "output_type": "display_data",
          "data": {
            "text/plain": [
              "<Figure size 640x480 with 2 Axes>"
            ],
            "image/png": "[encoded data removed]"
          },
          "metadata": {}
        }
      ]
    },
    {
      "cell_type": "markdown",
      "source": [
        "### Conclusion\n",
        "  The RandomForestClassifier model shows a near pefect level of accuracy in predicting if the banknotes are forged or not. The confusion matrix shows only two banknotes were falsely predicted forged while none of the forged notes were falsely predicted real. The data also shows a little bias towards forged notes given that there are about 25 more of them than real notes. So additional training may be needed to balance them out. CHanging the weights of the forged and real banknotes should be enough."
      ],
      "metadata": {
        "id": "TaNdOL7rk8q8"
      }
    }
  ]
}